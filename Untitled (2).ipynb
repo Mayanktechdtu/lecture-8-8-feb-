{
 "cells": [
  {
   "cell_type": "code",
   "execution_count": 5,
   "id": "3e9f53cf-4fdf-4735-8736-b13d91f2299c",
   "metadata": {},
   "outputs": [],
   "source": [
    "#polymorpism (fuction is same but behavioor difd"
   ]
  },
  {
   "cell_type": "code",
   "execution_count": 6,
   "id": "8ddfa4e6-c1c7-4262-90e1-81b1c7cb4075",
   "metadata": {},
   "outputs": [],
   "source": [
    "def test(a,b):\n",
    "    return a+b"
   ]
  },
  {
   "cell_type": "code",
   "execution_count": 7,
   "id": "2712a568-8d28-44fd-8743-e94b9a66a889",
   "metadata": {},
   "outputs": [
    {
     "data": {
      "text/plain": [
       "17"
      ]
     },
     "execution_count": 7,
     "metadata": {},
     "output_type": "execute_result"
    }
   ],
   "source": [
    "test(8,9)"
   ]
  },
  {
   "cell_type": "code",
   "execution_count": 8,
   "id": "cc79fc1a-2279-470f-8b63-3fe497fc1879",
   "metadata": {},
   "outputs": [
    {
     "data": {
      "text/plain": [
       "'mayankss'"
      ]
     },
     "execution_count": 8,
     "metadata": {},
     "output_type": "execute_result"
    }
   ],
   "source": [
    "test(\"mayank\",\"ss\")"
   ]
  },
  {
   "cell_type": "code",
   "execution_count": 9,
   "id": "e730df8b-89eb-488f-bfdf-6332dc08b75c",
   "metadata": {},
   "outputs": [
    {
     "data": {
      "text/plain": [
       "[2, 3, 22, 333]"
      ]
     },
     "execution_count": 9,
     "metadata": {},
     "output_type": "execute_result"
    }
   ],
   "source": [
    "test([2,3],[22,333])"
   ]
  },
  {
   "cell_type": "code",
   "execution_count": 129,
   "id": "d1fff235-5fe2-4d51-8cae-38052e11c339",
   "metadata": {},
   "outputs": [],
   "source": [
    "class trader:\n",
    "    def course(self):\n",
    "        print(\"welcome traders\")"
   ]
  },
  {
   "cell_type": "code",
   "execution_count": 130,
   "id": "61c6906d-3a52-44a2-bf7f-f67ddf29dbab",
   "metadata": {},
   "outputs": [],
   "source": [
    "class algo:\n",
    "    def course(self):\n",
    "        print(\"algo siko\")"
   ]
  },
  {
   "cell_type": "code",
   "execution_count": 131,
   "id": "5a8c251f-6f7e-4384-b60b-70d0196ab33d",
   "metadata": {},
   "outputs": [],
   "source": [
    "def class_p(class_obj):\n",
    "    for i in class_obj:\n",
    "        i.course()"
   ]
  },
  {
   "cell_type": "code",
   "execution_count": 132,
   "id": "4e6bb45c-83bf-4f78-878e-a6254533457c",
   "metadata": {},
   "outputs": [],
   "source": [
    "s=trader()"
   ]
  },
  {
   "cell_type": "code",
   "execution_count": 133,
   "id": "ffe663cb-44b1-4c98-80a7-8a006de8ff95",
   "metadata": {},
   "outputs": [],
   "source": [
    "a=algo()"
   ]
  },
  {
   "cell_type": "code",
   "execution_count": 134,
   "id": "b69fa9e2-7ee1-48de-9c1f-25197174acab",
   "metadata": {},
   "outputs": [],
   "source": [
    "class_obj=[s,a]"
   ]
  },
  {
   "cell_type": "code",
   "execution_count": 135,
   "id": "11ca5ad7-bdad-42ef-9e29-bc360ccd3db9",
   "metadata": {},
   "outputs": [
    {
     "name": "stdout",
     "output_type": "stream",
     "text": [
      "welcome traders\n",
      "algo siko\n"
     ]
    }
   ],
   "source": [
    "class_p(class_obj)"
   ]
  },
  {
   "cell_type": "code",
   "execution_count": null,
   "id": "a5df921b-b214-43c8-86f4-be90ff26cc7f",
   "metadata": {},
   "outputs": [],
   "source": []
  },
  {
   "cell_type": "code",
   "execution_count": 144,
   "id": "862e66b0-3313-49e3-be7e-cecea7d49dd4",
   "metadata": {},
   "outputs": [],
   "source": [
    "class trader:\n",
    "    def course(self):\n",
    "        print(\"welcome traders\")"
   ]
  },
  {
   "cell_type": "code",
   "execution_count": 145,
   "id": "25e465b4-6bc4-455f-be63-9d1ed94aa0d1",
   "metadata": {},
   "outputs": [],
   "source": [
    "class algo:\n",
    "    def course(self):\n",
    "        print(\"algo siko\")"
   ]
  },
  {
   "cell_type": "code",
   "execution_count": 146,
   "id": "be7ded9e-e6b4-4f0a-bc0c-09440d3c83ac",
   "metadata": {},
   "outputs": [],
   "source": [
    "def class_p(class_obj):\n",
    "    for i in class_obj:\n",
    "        i.course()"
   ]
  },
  {
   "cell_type": "code",
   "execution_count": 147,
   "id": "d27d12d4-9651-44db-bf30-b5ae6311ba1a",
   "metadata": {},
   "outputs": [],
   "source": [
    "mayank=trader()"
   ]
  },
  {
   "cell_type": "code",
   "execution_count": 151,
   "id": "f1f04bc8-873c-47d0-8b0a-a417416ca766",
   "metadata": {},
   "outputs": [],
   "source": [
    "sha=algo()"
   ]
  },
  {
   "cell_type": "code",
   "execution_count": 152,
   "id": "3801cfa3-fea3-494c-b363-7adfa241d9c2",
   "metadata": {},
   "outputs": [],
   "source": [
    "class_obj=[mayank,sha]"
   ]
  },
  {
   "cell_type": "code",
   "execution_count": 153,
   "id": "02828154-f09c-468a-b274-eaeb0d1beded",
   "metadata": {},
   "outputs": [
    {
     "name": "stdout",
     "output_type": "stream",
     "text": [
      "welcome traders\n",
      "algo siko\n"
     ]
    }
   ],
   "source": [
    "class_p(class_obj)"
   ]
  },
  {
   "cell_type": "code",
   "execution_count": null,
   "id": "9978c60e-d4a3-4c7d-aad4-21da8978d2cf",
   "metadata": {},
   "outputs": [],
   "source": []
  },
  {
   "cell_type": "code",
   "execution_count": 173,
   "id": "5ddb9993-40e0-4f4f-98d2-fd0fda88184a",
   "metadata": {},
   "outputs": [],
   "source": [
    "class trader:\n",
    "    def course(self):\n",
    "        print(\"welcome traders\")"
   ]
  },
  {
   "cell_type": "code",
   "execution_count": 174,
   "id": "f79f9aa0-170e-4a85-8b65-d8cc1e70c91f",
   "metadata": {},
   "outputs": [],
   "source": [
    "class algo:\n",
    "    def course(self):\n",
    "        print(\"algo siko\")"
   ]
  },
  {
   "cell_type": "code",
   "execution_count": 175,
   "id": "20fc997b-1e60-45c6-b7ce-9b7bae15b2ec",
   "metadata": {},
   "outputs": [],
   "source": [
    "def class_p(class_obj):\n",
    "    for i in class_obj:\n",
    "        i.course()"
   ]
  },
  {
   "cell_type": "code",
   "execution_count": 176,
   "id": "a3dd4d24-bde0-4cc8-9798-01a50669ff84",
   "metadata": {},
   "outputs": [],
   "source": [
    "m=trader()"
   ]
  },
  {
   "cell_type": "code",
   "execution_count": 177,
   "id": "f84638a2-6253-48ad-a9ad-b4800267784b",
   "metadata": {},
   "outputs": [],
   "source": [
    "ss=algo()"
   ]
  },
  {
   "cell_type": "code",
   "execution_count": 180,
   "id": "0e310d44-db2e-4149-b2a7-5f986097f811",
   "metadata": {},
   "outputs": [],
   "source": [
    "class_obj=[trader,algo] #as object is m and ss"
   ]
  },
  {
   "cell_type": "code",
   "execution_count": 181,
   "id": "d1418d9b-d1ce-4460-86d9-b272b2947b11",
   "metadata": {},
   "outputs": [
    {
     "ename": "TypeError",
     "evalue": "trader.course() missing 1 required positional argument: 'self'",
     "output_type": "error",
     "traceback": [
      "\u001b[0;31m---------------------------------------------------------------------------\u001b[0m",
      "\u001b[0;31mTypeError\u001b[0m                                 Traceback (most recent call last)",
      "Cell \u001b[0;32mIn[181], line 1\u001b[0m\n\u001b[0;32m----> 1\u001b[0m \u001b[43mclass_p\u001b[49m\u001b[43m(\u001b[49m\u001b[43mclass_obj\u001b[49m\u001b[43m)\u001b[49m\n",
      "Cell \u001b[0;32mIn[175], line 3\u001b[0m, in \u001b[0;36mclass_p\u001b[0;34m(class_obj)\u001b[0m\n\u001b[1;32m      1\u001b[0m \u001b[38;5;28;01mdef\u001b[39;00m \u001b[38;5;21mclass_p\u001b[39m(class_obj):\n\u001b[1;32m      2\u001b[0m     \u001b[38;5;28;01mfor\u001b[39;00m i \u001b[38;5;129;01min\u001b[39;00m class_obj:\n\u001b[0;32m----> 3\u001b[0m         \u001b[43mi\u001b[49m\u001b[38;5;241;43m.\u001b[39;49m\u001b[43mcourse\u001b[49m\u001b[43m(\u001b[49m\u001b[43m)\u001b[49m\n",
      "\u001b[0;31mTypeError\u001b[0m: trader.course() missing 1 required positional argument: 'self'"
     ]
    }
   ],
   "source": [
    "class_p(class_obj)"
   ]
  },
  {
   "cell_type": "code",
   "execution_count": 182,
   "id": "65a2f1f2-ec7e-45c4-b2c6-c08168624f78",
   "metadata": {},
   "outputs": [],
   "source": [
    "#encapsulation"
   ]
  },
  {
   "cell_type": "code",
   "execution_count": 18,
   "id": "a075f026-a639-422f-95ee-b99d177a0fc8",
   "metadata": {},
   "outputs": [],
   "source": [
    "class test():\n",
    "    def __init__(self,a,b):\n",
    "        self.a=a\n",
    "        self.b=b"
   ]
  },
  {
   "cell_type": "code",
   "execution_count": 19,
   "id": "540b171e-1bb3-40df-86cd-6e8009dd06df",
   "metadata": {},
   "outputs": [],
   "source": [
    "t=test(2,3)"
   ]
  },
  {
   "cell_type": "code",
   "execution_count": 20,
   "id": "7dc0b115-12d8-4929-9dd3-33f8af05203a",
   "metadata": {},
   "outputs": [
    {
     "data": {
      "text/plain": [
       "2"
      ]
     },
     "execution_count": 20,
     "metadata": {},
     "output_type": "execute_result"
    }
   ],
   "source": [
    "t.a #in this if u press tab its shows 2 intance a and b to hide that we use encaplusion"
   ]
  },
  {
   "cell_type": "code",
   "execution_count": 21,
   "id": "e2eaedac-c1e2-470c-8325-e1fe884ca25a",
   "metadata": {},
   "outputs": [],
   "source": [
    "t.a=99"
   ]
  },
  {
   "cell_type": "code",
   "execution_count": 22,
   "id": "5a0c604b-5b99-49d8-a122-542b12d49463",
   "metadata": {},
   "outputs": [
    {
     "data": {
      "text/plain": [
       "99"
      ]
     },
     "execution_count": 22,
     "metadata": {},
     "output_type": "execute_result"
    }
   ],
   "source": [
    "t.a #same as above"
   ]
  },
  {
   "cell_type": "code",
   "execution_count": 24,
   "id": "ada6a8cd-7b80-4ddf-b777-412943a5572a",
   "metadata": {},
   "outputs": [],
   "source": [
    "#to aviod that intance use __ before self.__ line"
   ]
  },
  {
   "cell_type": "code",
   "execution_count": 26,
   "id": "2d84ea44-4762-49b6-a66f-763d583fda1a",
   "metadata": {},
   "outputs": [],
   "source": [
    "class car:\n",
    "    def __init__(self,model,age,money):\n",
    "        self.__model=model\n",
    "        self.__age=age\n",
    "        self.__money=money"
   ]
  },
  {
   "cell_type": "code",
   "execution_count": 30,
   "id": "e777325b-8c57-433b-9f97-21b07b26b7bb",
   "metadata": {},
   "outputs": [],
   "source": [
    "c=car(\"nnoe\",22,1100011)"
   ]
  },
  {
   "cell_type": "code",
   "execution_count": 33,
   "id": "622c3b21-61e0-43fc-8c59-4d138201e222",
   "metadata": {},
   "outputs": [
    {
     "ename": "AttributeError",
     "evalue": "'car' object has no attribute 'age'",
     "output_type": "error",
     "traceback": [
      "\u001b[0;31m---------------------------------------------------------------------------\u001b[0m",
      "\u001b[0;31mAttributeError\u001b[0m                            Traceback (most recent call last)",
      "Cell \u001b[0;32mIn[33], line 1\u001b[0m\n\u001b[0;32m----> 1\u001b[0m \u001b[43mc\u001b[49m\u001b[38;5;241;43m.\u001b[39;49m\u001b[43mage\u001b[49m \u001b[38;5;66;03m#now this not work as we hide the intances using __\u001b[39;00m\n",
      "\u001b[0;31mAttributeError\u001b[0m: 'car' object has no attribute 'age'"
     ]
    }
   ],
   "source": [
    "c.age #now this not work as we hide the intances using __"
   ]
  },
  {
   "cell_type": "code",
   "execution_count": 34,
   "id": "d7af4987-e784-481c-a51e-9c8e9f11a485",
   "metadata": {},
   "outputs": [
    {
     "data": {
      "text/plain": [
       "22"
      ]
     },
     "execution_count": 34,
     "metadata": {},
     "output_type": "execute_result"
    }
   ],
   "source": [
    "c._car__age #for using any intance use this format only"
   ]
  },
  {
   "cell_type": "code",
   "execution_count": null,
   "id": "da6ef5e2-5740-4822-b212-46f8fc4b6906",
   "metadata": {},
   "outputs": [],
   "source": []
  },
  {
   "cell_type": "code",
   "execution_count": 44,
   "id": "38d07b06-e1c9-499e-8c77-79a4800d90f1",
   "metadata": {},
   "outputs": [],
   "source": [
    "class car:\n",
    "    def __init__(self,model,age,money,speed):\n",
    "        self.__model=model\n",
    "        self.__age=age\n",
    "        self.__money=money\n",
    "        self.__speed=0\n",
    "        #this is to show in pulic because __ not use in this\n",
    "    def set_speed(self,speed):\n",
    "        self.__speed=0 if speed <0 else speed\n",
    "        \n",
    "    def get_speed(self):\n",
    "        return self.__speed"
   ]
  },
  {
   "cell_type": "code",
   "execution_count": 45,
   "id": "ce37354f-f92e-4571-ad22-c7656eadebe7",
   "metadata": {},
   "outputs": [],
   "source": [
    "c=car(\"tty\",22,2222121,12)"
   ]
  },
  {
   "cell_type": "code",
   "execution_count": 50,
   "id": "1fd9a4b9-0cc9-4f55-8c50-f49077d25e83",
   "metadata": {},
   "outputs": [],
   "source": [
    "c.set_speed(-90) #in this u can use tab to fing get nd set intance as they are not hide"
   ]
  },
  {
   "cell_type": "code",
   "execution_count": 51,
   "id": "497ed9b0-8117-48a3-af34-af4a9a4f2391",
   "metadata": {},
   "outputs": [
    {
     "data": {
      "text/plain": [
       "0"
      ]
     },
     "execution_count": 51,
     "metadata": {},
     "output_type": "execute_result"
    }
   ],
   "source": [
    "c.get_speed()"
   ]
  },
  {
   "cell_type": "code",
   "execution_count": 52,
   "id": "f86503b8-39f4-40fd-b8dd-d6b1d79de00d",
   "metadata": {},
   "outputs": [],
   "source": [
    "c.set_speed(89)"
   ]
  },
  {
   "cell_type": "code",
   "execution_count": 53,
   "id": "ef1cc2d0-06d9-4303-a0e6-a373bdbeabf6",
   "metadata": {},
   "outputs": [
    {
     "data": {
      "text/plain": [
       "89"
      ]
     },
     "execution_count": 53,
     "metadata": {},
     "output_type": "execute_result"
    }
   ],
   "source": [
    "c.get_speed()"
   ]
  },
  {
   "cell_type": "code",
   "execution_count": 54,
   "id": "df75b317-814a-4db7-9f90-c493a9c256e0",
   "metadata": {},
   "outputs": [],
   "source": [
    "#inheritance"
   ]
  },
  {
   "cell_type": "code",
   "execution_count": 55,
   "id": "c24476d1-4a3f-4fca-9e13-af6a56ec5b74",
   "metadata": {},
   "outputs": [],
   "source": [
    "class test:\n",
    "    def test_math(self):\n",
    "        return \"this nnks\""
   ]
  },
  {
   "cell_type": "code",
   "execution_count": 56,
   "id": "10b538d6-54e3-4ef0-b7a9-d2c5397fef0d",
   "metadata": {},
   "outputs": [],
   "source": [
    "class child_test(test):\n",
    "    pass"
   ]
  },
  {
   "cell_type": "code",
   "execution_count": 57,
   "id": "6d5a0f64-5e12-41cc-af20-9035aca3efd0",
   "metadata": {},
   "outputs": [],
   "source": [
    "child_test_obj=child_test()"
   ]
  },
  {
   "cell_type": "code",
   "execution_count": 58,
   "id": "ba047323-6be9-402d-893b-cd30f9d8a638",
   "metadata": {},
   "outputs": [
    {
     "data": {
      "text/plain": [
       "'this nnks'"
      ]
     },
     "execution_count": 58,
     "metadata": {},
     "output_type": "execute_result"
    }
   ],
   "source": [
    "child_test_obj.test_math()"
   ]
  },
  {
   "cell_type": "code",
   "execution_count": 59,
   "id": "f41b2b43-5620-48a9-9560-b029adb39d0a",
   "metadata": {},
   "outputs": [],
   "source": [
    "#multiple level inhetance"
   ]
  },
  {
   "cell_type": "code",
   "execution_count": 60,
   "id": "5016b075-dae4-463b-ab12-8e6ad25d2c5b",
   "metadata": {},
   "outputs": [],
   "source": [
    "class c1:\n",
    "    def test_c1(self):\n",
    "        return \"dssd\""
   ]
  },
  {
   "cell_type": "code",
   "execution_count": 61,
   "id": "8e698481-ebfd-4f77-a349-6d9635408401",
   "metadata": {},
   "outputs": [],
   "source": [
    "class c2(c1):\n",
    "    def test_c2(self):\n",
    "        return\"ewww\""
   ]
  },
  {
   "cell_type": "code",
   "execution_count": 62,
   "id": "82a8b947-dd22-4d84-88e9-3d9cbcd6bbfe",
   "metadata": {},
   "outputs": [],
   "source": [
    "class c3(c2):\n",
    "    pass"
   ]
  },
  {
   "cell_type": "code",
   "execution_count": 63,
   "id": "368396d6-8840-44d3-96a3-bd46730ba784",
   "metadata": {},
   "outputs": [],
   "source": [
    "c3_obj=c3()"
   ]
  },
  {
   "cell_type": "code",
   "execution_count": 64,
   "id": "cf8bc6dc-5f5e-45ee-ad46-e90e778a7ab1",
   "metadata": {},
   "outputs": [
    {
     "data": {
      "text/plain": [
       "'dssd'"
      ]
     },
     "execution_count": 64,
     "metadata": {},
     "output_type": "execute_result"
    }
   ],
   "source": [
    "c3_obj.test_ctest_c1()"
   ]
  },
  {
   "cell_type": "code",
   "execution_count": 65,
   "id": "48f91268-7d59-427b-86be-86530eda154f",
   "metadata": {},
   "outputs": [
    {
     "data": {
      "text/plain": [
       "'ewww'"
      ]
     },
     "execution_count": 65,
     "metadata": {},
     "output_type": "execute_result"
    }
   ],
   "source": [
    "c3_obj.test_c2()"
   ]
  },
  {
   "cell_type": "code",
   "execution_count": 66,
   "id": "29b6a7c7-835a-49d6-9d2c-dc9721ad408a",
   "metadata": {},
   "outputs": [],
   "source": [
    "#multiple inheritance"
   ]
  },
  {
   "cell_type": "code",
   "execution_count": 68,
   "id": "8a4a18a6-2324-4efe-b9db-dcac03c78f86",
   "metadata": {},
   "outputs": [],
   "source": [
    "class c1:\n",
    "    def test_c1(self):\n",
    "        return \"mayank\""
   ]
  },
  {
   "cell_type": "code",
   "execution_count": 69,
   "id": "d5a630f2-cb99-42d4-82e4-5c06ec7b3742",
   "metadata": {},
   "outputs": [],
   "source": [
    "class c2():\n",
    "    def test_c2(self):\n",
    "        return \"whalestreet\""
   ]
  },
  {
   "cell_type": "code",
   "execution_count": 70,
   "id": "6524472c-d162-4039-8090-f2b2c85a387f",
   "metadata": {},
   "outputs": [],
   "source": [
    "class c3(c1,c2):\n",
    "    pass"
   ]
  },
  {
   "cell_type": "code",
   "execution_count": 71,
   "id": "519f74fb-3c2c-430e-9aa1-05be3dcf950f",
   "metadata": {},
   "outputs": [],
   "source": [
    "c3_obj=c3()"
   ]
  },
  {
   "cell_type": "code",
   "execution_count": 72,
   "id": "22b977b4-1e6f-4876-8942-9a8b7a2d2778",
   "metadata": {},
   "outputs": [
    {
     "data": {
      "text/plain": [
       "'mayank'"
      ]
     },
     "execution_count": 72,
     "metadata": {},
     "output_type": "execute_result"
    }
   ],
   "source": [
    "c3_obj.test_c1()"
   ]
  },
  {
   "cell_type": "code",
   "execution_count": null,
   "id": "88b750a4-db64-498c-93de-4cbee68ba529",
   "metadata": {},
   "outputs": [],
   "source": []
  }
 ],
 "metadata": {
  "kernelspec": {
   "display_name": "Python 3 (ipykernel)",
   "language": "python",
   "name": "python3"
  },
  "language_info": {
   "codemirror_mode": {
    "name": "ipython",
    "version": 3
   },
   "file_extension": ".py",
   "mimetype": "text/x-python",
   "name": "python",
   "nbconvert_exporter": "python",
   "pygments_lexer": "ipython3",
   "version": "3.10.8"
  }
 },
 "nbformat": 4,
 "nbformat_minor": 5
}
